{
 "cells": [
  {
   "cell_type": "markdown",
   "metadata": {},
   "source": [
    "EDA"
   ]
  },
  {
   "cell_type": "code",
   "execution_count": 1,
   "metadata": {},
   "outputs": [],
   "source": [
    "import pandas as pd\n",
    "import numpy as np\n",
    "import matplotlib.pyplot as plt\n",
    "import plotly.express as px\n",
    "import seaborn as sns"
   ]
  },
  {
   "cell_type": "code",
   "execution_count": 2,
   "metadata": {},
   "outputs": [],
   "source": [
    "dfcontract = pd.read_csv('/datasets/final_provider/contract.csv')\n",
    "dfinternet = pd.read_csv('/datasets/final_provider/internet.csv')\n",
    "dfpersonal = pd.read_csv('/datasets/final_provider/personal.csv')\n",
    "dfphone = pd.read_csv('/datasets/final_provider/phone.csv')"
   ]
  },
  {
   "cell_type": "code",
   "execution_count": 3,
   "metadata": {
    "scrolled": false
   },
   "outputs": [
    {
     "name": "stdout",
     "output_type": "stream",
     "text": [
      "<class 'pandas.core.frame.DataFrame'>\n",
      "RangeIndex: 7043 entries, 0 to 7042\n",
      "Data columns (total 8 columns):\n",
      " #   Column            Non-Null Count  Dtype  \n",
      "---  ------            --------------  -----  \n",
      " 0   customerID        7043 non-null   object \n",
      " 1   BeginDate         7043 non-null   object \n",
      " 2   EndDate           7043 non-null   object \n",
      " 3   Type              7043 non-null   object \n",
      " 4   PaperlessBilling  7043 non-null   object \n",
      " 5   PaymentMethod     7043 non-null   object \n",
      " 6   MonthlyCharges    7043 non-null   float64\n",
      " 7   TotalCharges      7043 non-null   object \n",
      "dtypes: float64(1), object(7)\n",
      "memory usage: 440.3+ KB\n"
     ]
    }
   ],
   "source": [
    "# analizando dfcontract\n",
    "dfcontract.info()"
   ]
  },
  {
   "cell_type": "code",
   "execution_count": 4,
   "metadata": {
    "scrolled": true
   },
   "outputs": [
    {
     "data": {
      "text/html": [
       "<div>\n",
       "<style scoped>\n",
       "    .dataframe tbody tr th:only-of-type {\n",
       "        vertical-align: middle;\n",
       "    }\n",
       "\n",
       "    .dataframe tbody tr th {\n",
       "        vertical-align: top;\n",
       "    }\n",
       "\n",
       "    .dataframe thead th {\n",
       "        text-align: right;\n",
       "    }\n",
       "</style>\n",
       "<table border=\"1\" class=\"dataframe\">\n",
       "  <thead>\n",
       "    <tr style=\"text-align: right;\">\n",
       "      <th></th>\n",
       "      <th>customerID</th>\n",
       "      <th>BeginDate</th>\n",
       "      <th>EndDate</th>\n",
       "      <th>Type</th>\n",
       "      <th>PaperlessBilling</th>\n",
       "      <th>PaymentMethod</th>\n",
       "      <th>MonthlyCharges</th>\n",
       "      <th>TotalCharges</th>\n",
       "    </tr>\n",
       "  </thead>\n",
       "  <tbody>\n",
       "    <tr>\n",
       "      <th>2133</th>\n",
       "      <td>8051-HJRLT</td>\n",
       "      <td>2019-09-01</td>\n",
       "      <td>2019-10-01 00:00:00</td>\n",
       "      <td>Month-to-month</td>\n",
       "      <td>Yes</td>\n",
       "      <td>Electronic check</td>\n",
       "      <td>70.55</td>\n",
       "      <td>70.55</td>\n",
       "    </tr>\n",
       "    <tr>\n",
       "      <th>1600</th>\n",
       "      <td>3068-OMWZA</td>\n",
       "      <td>2019-09-01</td>\n",
       "      <td>2019-10-01 00:00:00</td>\n",
       "      <td>Month-to-month</td>\n",
       "      <td>Yes</td>\n",
       "      <td>Electronic check</td>\n",
       "      <td>88.80</td>\n",
       "      <td>88.8</td>\n",
       "    </tr>\n",
       "    <tr>\n",
       "      <th>1292</th>\n",
       "      <td>8390-FESFV</td>\n",
       "      <td>2014-12-01</td>\n",
       "      <td>No</td>\n",
       "      <td>Two year</td>\n",
       "      <td>No</td>\n",
       "      <td>Bank transfer (automatic)</td>\n",
       "      <td>84.50</td>\n",
       "      <td>5193.2</td>\n",
       "    </tr>\n",
       "    <tr>\n",
       "      <th>3058</th>\n",
       "      <td>2858-MOFSQ</td>\n",
       "      <td>2018-08-01</td>\n",
       "      <td>2020-01-01 00:00:00</td>\n",
       "      <td>One year</td>\n",
       "      <td>Yes</td>\n",
       "      <td>Mailed check</td>\n",
       "      <td>55.85</td>\n",
       "      <td>937.5</td>\n",
       "    </tr>\n",
       "    <tr>\n",
       "      <th>463</th>\n",
       "      <td>3811-VBYBZ</td>\n",
       "      <td>2019-03-01</td>\n",
       "      <td>2019-10-01 00:00:00</td>\n",
       "      <td>Month-to-month</td>\n",
       "      <td>Yes</td>\n",
       "      <td>Electronic check</td>\n",
       "      <td>99.80</td>\n",
       "      <td>673.25</td>\n",
       "    </tr>\n",
       "    <tr>\n",
       "      <th>3874</th>\n",
       "      <td>4570-QHXHL</td>\n",
       "      <td>2019-05-01</td>\n",
       "      <td>No</td>\n",
       "      <td>Month-to-month</td>\n",
       "      <td>Yes</td>\n",
       "      <td>Electronic check</td>\n",
       "      <td>43.75</td>\n",
       "      <td>405.7</td>\n",
       "    </tr>\n",
       "    <tr>\n",
       "      <th>1011</th>\n",
       "      <td>6614-YOLAC</td>\n",
       "      <td>2014-03-01</td>\n",
       "      <td>No</td>\n",
       "      <td>Two year</td>\n",
       "      <td>No</td>\n",
       "      <td>Mailed check</td>\n",
       "      <td>58.65</td>\n",
       "      <td>4145.25</td>\n",
       "    </tr>\n",
       "    <tr>\n",
       "      <th>157</th>\n",
       "      <td>2749-CTKAJ</td>\n",
       "      <td>2018-04-01</td>\n",
       "      <td>No</td>\n",
       "      <td>One year</td>\n",
       "      <td>No</td>\n",
       "      <td>Mailed check</td>\n",
       "      <td>20.15</td>\n",
       "      <td>419.9</td>\n",
       "    </tr>\n",
       "    <tr>\n",
       "      <th>5095</th>\n",
       "      <td>7269-JISCY</td>\n",
       "      <td>2015-07-01</td>\n",
       "      <td>No</td>\n",
       "      <td>One year</td>\n",
       "      <td>No</td>\n",
       "      <td>Bank transfer (automatic)</td>\n",
       "      <td>45.05</td>\n",
       "      <td>2462.6</td>\n",
       "    </tr>\n",
       "    <tr>\n",
       "      <th>4627</th>\n",
       "      <td>3680-CTHUH</td>\n",
       "      <td>2015-02-01</td>\n",
       "      <td>No</td>\n",
       "      <td>One year</td>\n",
       "      <td>Yes</td>\n",
       "      <td>Credit card (automatic)</td>\n",
       "      <td>116.60</td>\n",
       "      <td>7049.5</td>\n",
       "    </tr>\n",
       "  </tbody>\n",
       "</table>\n",
       "</div>"
      ],
      "text/plain": [
       "      customerID   BeginDate              EndDate            Type  \\\n",
       "2133  8051-HJRLT  2019-09-01  2019-10-01 00:00:00  Month-to-month   \n",
       "1600  3068-OMWZA  2019-09-01  2019-10-01 00:00:00  Month-to-month   \n",
       "1292  8390-FESFV  2014-12-01                   No        Two year   \n",
       "3058  2858-MOFSQ  2018-08-01  2020-01-01 00:00:00        One year   \n",
       "463   3811-VBYBZ  2019-03-01  2019-10-01 00:00:00  Month-to-month   \n",
       "3874  4570-QHXHL  2019-05-01                   No  Month-to-month   \n",
       "1011  6614-YOLAC  2014-03-01                   No        Two year   \n",
       "157   2749-CTKAJ  2018-04-01                   No        One year   \n",
       "5095  7269-JISCY  2015-07-01                   No        One year   \n",
       "4627  3680-CTHUH  2015-02-01                   No        One year   \n",
       "\n",
       "     PaperlessBilling              PaymentMethod  MonthlyCharges TotalCharges  \n",
       "2133              Yes           Electronic check           70.55        70.55  \n",
       "1600              Yes           Electronic check           88.80         88.8  \n",
       "1292               No  Bank transfer (automatic)           84.50       5193.2  \n",
       "3058              Yes               Mailed check           55.85        937.5  \n",
       "463               Yes           Electronic check           99.80       673.25  \n",
       "3874              Yes           Electronic check           43.75        405.7  \n",
       "1011               No               Mailed check           58.65      4145.25  \n",
       "157                No               Mailed check           20.15        419.9  \n",
       "5095               No  Bank transfer (automatic)           45.05       2462.6  \n",
       "4627              Yes    Credit card (automatic)          116.60       7049.5  "
      ]
     },
     "execution_count": 4,
     "metadata": {},
     "output_type": "execute_result"
    }
   ],
   "source": [
    "dfcontract.sample(10)"
   ]
  },
  {
   "cell_type": "code",
   "execution_count": 5,
   "metadata": {},
   "outputs": [
    {
     "data": {
      "text/plain": [
       "0"
      ]
     },
     "execution_count": 5,
     "metadata": {},
     "output_type": "execute_result"
    }
   ],
   "source": [
    "# identificando duplicidades\n",
    "dfcontract[\"customerID\"].duplicated().sum()"
   ]
  },
  {
   "cell_type": "code",
   "execution_count": 6,
   "metadata": {},
   "outputs": [
    {
     "name": "stdout",
     "output_type": "stream",
     "text": [
      "11\n"
     ]
    }
   ],
   "source": [
    "# convertendo a coluna totalchargers de object para numérica\n",
    "dfcontract[\"TotalCharges\"] = pd.to_numeric(dfcontract[\"TotalCharges\"], errors='coerce')\n",
    "print(dfcontract[\"TotalCharges\"].isnull().sum())"
   ]
  },
  {
   "cell_type": "markdown",
   "metadata": {},
   "source": [
    "Conclusions:\n",
    "- When converting the TotalCharges column to a numeric type, we identified 11 records where this column was actually a string, which have now become null values. We will discard these records.\n",
    "- Since the model will use the column totalcharges as part of the features during training: null values here will interfere with or prevent the model from running properly. Initially, they are strings that cannot be converted to numeric values, and since there are only 11 problematic records out of more than 7,000 total records, I see no issue in discarding them."
   ]
  },
  {
   "cell_type": "code",
   "execution_count": 7,
   "metadata": {},
   "outputs": [
    {
     "name": "stdout",
     "output_type": "stream",
     "text": [
      "0\n"
     ]
    }
   ],
   "source": [
    "# descartando registros com NaN\n",
    "dfcontract = dfcontract.dropna(subset=['TotalCharges'])\n",
    "print(dfcontract[\"TotalCharges\"].isnull().sum())"
   ]
  },
  {
   "cell_type": "markdown",
   "metadata": {},
   "source": [
    "Conclusions:\n",
    "- We have 7,032 unique customers; 11 records were removed due to null values in `TotalCharges`.\n",
    "- The `contract` dataframe contains the `EndDate` column, which is the target variable. `EndDate` has a date value when it is different from \"No.\"\n",
    "- `TotalCharges` is currently an object and needs to be converted to a float type.\n",
    "- The mean of `MonthlyCharges` is 65, and the median is 70, indicating that the distribution is left-skewed, meaning that values are pulling the mean below the median.\n",
    "- The standard deviation of `MonthlyCharges` is 30, which is nearly half the mean, indicating high variability in the data.\n",
    "- The lowest `MonthlyCharge` is 18.25, and the highest is 118.75.\n",
    "- Data scaling will not be necessary.\n",
    "- `TotalCharges` has high variability, with the standard deviation nearly equal to the mean and values ranging from 18 to 8,600.\n",
    "\n",
    "Columns in this dataframe to be considered as features for churn analysis:\n",
    "- `Type`\n",
    "- `PaperlessBilling`\n",
    "- `PaymentMethod`\n",
    "- `MonthlyCharges`\n",
    "- `TotalCharges`\n",
    "\n",
    "To-Do:\n",
    "- Create a histogram for `EndDate`.\n",
    "- Create a new column `EndDate Yes/No` and plot it for visualization.\n",
    "- Plot a graph to analyze the dates with the most churn, including months and years.\n",
    "- Create a plot for `Type`.\n",
    "- Create boxplots for `MonthlyCharges` and `TotalCharges`.\n"
   ]
  },
  {
   "cell_type": "code",
   "execution_count": 8,
   "metadata": {},
   "outputs": [],
   "source": [
    "# criando uma coluna binária para enddate\n",
    "dfcontract[\"EndDateYN\"] = np.where(dfcontract[\"EndDate\"] != 'No', 1,0)"
   ]
  },
  {
   "cell_type": "code",
   "execution_count": 9,
   "metadata": {
    "scrolled": false
   },
   "outputs": [
    {
     "data": {
      "text/html": [
       "<div>\n",
       "<style scoped>\n",
       "    .dataframe tbody tr th:only-of-type {\n",
       "        vertical-align: middle;\n",
       "    }\n",
       "\n",
       "    .dataframe tbody tr th {\n",
       "        vertical-align: top;\n",
       "    }\n",
       "\n",
       "    .dataframe thead th {\n",
       "        text-align: right;\n",
       "    }\n",
       "</style>\n",
       "<table border=\"1\" class=\"dataframe\">\n",
       "  <thead>\n",
       "    <tr style=\"text-align: right;\">\n",
       "      <th></th>\n",
       "      <th>customerID</th>\n",
       "      <th>BeginDate</th>\n",
       "      <th>EndDate</th>\n",
       "      <th>Type</th>\n",
       "      <th>PaperlessBilling</th>\n",
       "      <th>PaymentMethod</th>\n",
       "      <th>MonthlyCharges</th>\n",
       "      <th>TotalCharges</th>\n",
       "      <th>EndDateYN</th>\n",
       "    </tr>\n",
       "  </thead>\n",
       "  <tbody>\n",
       "    <tr>\n",
       "      <th>3274</th>\n",
       "      <td>2874-YXVVA</td>\n",
       "      <td>2017-04-01</td>\n",
       "      <td>No</td>\n",
       "      <td>Month-to-month</td>\n",
       "      <td>Yes</td>\n",
       "      <td>Electronic check</td>\n",
       "      <td>105.10</td>\n",
       "      <td>3634.80</td>\n",
       "      <td>0</td>\n",
       "    </tr>\n",
       "    <tr>\n",
       "      <th>5946</th>\n",
       "      <td>6261-RCVNS</td>\n",
       "      <td>2016-04-01</td>\n",
       "      <td>2019-10-01 00:00:00</td>\n",
       "      <td>One year</td>\n",
       "      <td>No</td>\n",
       "      <td>Credit card (automatic)</td>\n",
       "      <td>73.90</td>\n",
       "      <td>3160.55</td>\n",
       "      <td>1</td>\n",
       "    </tr>\n",
       "    <tr>\n",
       "      <th>3180</th>\n",
       "      <td>6734-CKRSM</td>\n",
       "      <td>2019-11-01</td>\n",
       "      <td>No</td>\n",
       "      <td>Month-to-month</td>\n",
       "      <td>No</td>\n",
       "      <td>Mailed check</td>\n",
       "      <td>20.00</td>\n",
       "      <td>63.60</td>\n",
       "      <td>0</td>\n",
       "    </tr>\n",
       "    <tr>\n",
       "      <th>1548</th>\n",
       "      <td>5522-NYKPB</td>\n",
       "      <td>2018-01-01</td>\n",
       "      <td>No</td>\n",
       "      <td>Month-to-month</td>\n",
       "      <td>No</td>\n",
       "      <td>Electronic check</td>\n",
       "      <td>85.90</td>\n",
       "      <td>2199.05</td>\n",
       "      <td>0</td>\n",
       "    </tr>\n",
       "    <tr>\n",
       "      <th>2395</th>\n",
       "      <td>6486-LHTMA</td>\n",
       "      <td>2017-07-01</td>\n",
       "      <td>No</td>\n",
       "      <td>One year</td>\n",
       "      <td>Yes</td>\n",
       "      <td>Electronic check</td>\n",
       "      <td>90.70</td>\n",
       "      <td>2835.50</td>\n",
       "      <td>0</td>\n",
       "    </tr>\n",
       "    <tr>\n",
       "      <th>63</th>\n",
       "      <td>0557-ASKVU</td>\n",
       "      <td>2018-08-01</td>\n",
       "      <td>No</td>\n",
       "      <td>One year</td>\n",
       "      <td>Yes</td>\n",
       "      <td>Credit card (automatic)</td>\n",
       "      <td>54.40</td>\n",
       "      <td>957.10</td>\n",
       "      <td>0</td>\n",
       "    </tr>\n",
       "    <tr>\n",
       "      <th>1427</th>\n",
       "      <td>6896-SRVYQ</td>\n",
       "      <td>2016-06-01</td>\n",
       "      <td>No</td>\n",
       "      <td>Month-to-month</td>\n",
       "      <td>No</td>\n",
       "      <td>Electronic check</td>\n",
       "      <td>73.85</td>\n",
       "      <td>3122.40</td>\n",
       "      <td>0</td>\n",
       "    </tr>\n",
       "    <tr>\n",
       "      <th>3074</th>\n",
       "      <td>4504-YOULA</td>\n",
       "      <td>2017-03-01</td>\n",
       "      <td>No</td>\n",
       "      <td>Month-to-month</td>\n",
       "      <td>Yes</td>\n",
       "      <td>Credit card (automatic)</td>\n",
       "      <td>59.45</td>\n",
       "      <td>2136.90</td>\n",
       "      <td>0</td>\n",
       "    </tr>\n",
       "    <tr>\n",
       "      <th>428</th>\n",
       "      <td>4360-PNRQB</td>\n",
       "      <td>2018-08-01</td>\n",
       "      <td>No</td>\n",
       "      <td>Month-to-month</td>\n",
       "      <td>Yes</td>\n",
       "      <td>Bank transfer (automatic)</td>\n",
       "      <td>75.60</td>\n",
       "      <td>1395.05</td>\n",
       "      <td>0</td>\n",
       "    </tr>\n",
       "    <tr>\n",
       "      <th>1411</th>\n",
       "      <td>2692-BUCFV</td>\n",
       "      <td>2017-09-01</td>\n",
       "      <td>No</td>\n",
       "      <td>Month-to-month</td>\n",
       "      <td>Yes</td>\n",
       "      <td>Bank transfer (automatic)</td>\n",
       "      <td>101.45</td>\n",
       "      <td>2948.60</td>\n",
       "      <td>0</td>\n",
       "    </tr>\n",
       "    <tr>\n",
       "      <th>2806</th>\n",
       "      <td>3259-QMXUN</td>\n",
       "      <td>2015-04-01</td>\n",
       "      <td>No</td>\n",
       "      <td>Two year</td>\n",
       "      <td>Yes</td>\n",
       "      <td>Electronic check</td>\n",
       "      <td>86.10</td>\n",
       "      <td>4890.50</td>\n",
       "      <td>0</td>\n",
       "    </tr>\n",
       "    <tr>\n",
       "      <th>6541</th>\n",
       "      <td>1635-HDGFT</td>\n",
       "      <td>2018-07-01</td>\n",
       "      <td>No</td>\n",
       "      <td>Two year</td>\n",
       "      <td>No</td>\n",
       "      <td>Mailed check</td>\n",
       "      <td>20.50</td>\n",
       "      <td>398.55</td>\n",
       "      <td>0</td>\n",
       "    </tr>\n",
       "    <tr>\n",
       "      <th>6463</th>\n",
       "      <td>0872-CASZJ</td>\n",
       "      <td>2015-03-01</td>\n",
       "      <td>No</td>\n",
       "      <td>One year</td>\n",
       "      <td>Yes</td>\n",
       "      <td>Mailed check</td>\n",
       "      <td>69.10</td>\n",
       "      <td>4096.90</td>\n",
       "      <td>0</td>\n",
       "    </tr>\n",
       "    <tr>\n",
       "      <th>867</th>\n",
       "      <td>2732-ISEZX</td>\n",
       "      <td>2019-09-01</td>\n",
       "      <td>No</td>\n",
       "      <td>Month-to-month</td>\n",
       "      <td>Yes</td>\n",
       "      <td>Mailed check</td>\n",
       "      <td>20.50</td>\n",
       "      <td>104.30</td>\n",
       "      <td>0</td>\n",
       "    </tr>\n",
       "    <tr>\n",
       "      <th>985</th>\n",
       "      <td>9369-XFEHK</td>\n",
       "      <td>2017-03-01</td>\n",
       "      <td>2019-12-01 00:00:00</td>\n",
       "      <td>Month-to-month</td>\n",
       "      <td>Yes</td>\n",
       "      <td>Bank transfer (automatic)</td>\n",
       "      <td>80.60</td>\n",
       "      <td>2656.50</td>\n",
       "      <td>1</td>\n",
       "    </tr>\n",
       "  </tbody>\n",
       "</table>\n",
       "</div>"
      ],
      "text/plain": [
       "      customerID   BeginDate              EndDate            Type  \\\n",
       "3274  2874-YXVVA  2017-04-01                   No  Month-to-month   \n",
       "5946  6261-RCVNS  2016-04-01  2019-10-01 00:00:00        One year   \n",
       "3180  6734-CKRSM  2019-11-01                   No  Month-to-month   \n",
       "1548  5522-NYKPB  2018-01-01                   No  Month-to-month   \n",
       "2395  6486-LHTMA  2017-07-01                   No        One year   \n",
       "63    0557-ASKVU  2018-08-01                   No        One year   \n",
       "1427  6896-SRVYQ  2016-06-01                   No  Month-to-month   \n",
       "3074  4504-YOULA  2017-03-01                   No  Month-to-month   \n",
       "428   4360-PNRQB  2018-08-01                   No  Month-to-month   \n",
       "1411  2692-BUCFV  2017-09-01                   No  Month-to-month   \n",
       "2806  3259-QMXUN  2015-04-01                   No        Two year   \n",
       "6541  1635-HDGFT  2018-07-01                   No        Two year   \n",
       "6463  0872-CASZJ  2015-03-01                   No        One year   \n",
       "867   2732-ISEZX  2019-09-01                   No  Month-to-month   \n",
       "985   9369-XFEHK  2017-03-01  2019-12-01 00:00:00  Month-to-month   \n",
       "\n",
       "     PaperlessBilling              PaymentMethod  MonthlyCharges  \\\n",
       "3274              Yes           Electronic check          105.10   \n",
       "5946               No    Credit card (automatic)           73.90   \n",
       "3180               No               Mailed check           20.00   \n",
       "1548               No           Electronic check           85.90   \n",
       "2395              Yes           Electronic check           90.70   \n",
       "63                Yes    Credit card (automatic)           54.40   \n",
       "1427               No           Electronic check           73.85   \n",
       "3074              Yes    Credit card (automatic)           59.45   \n",
       "428               Yes  Bank transfer (automatic)           75.60   \n",
       "1411              Yes  Bank transfer (automatic)          101.45   \n",
       "2806              Yes           Electronic check           86.10   \n",
       "6541               No               Mailed check           20.50   \n",
       "6463              Yes               Mailed check           69.10   \n",
       "867               Yes               Mailed check           20.50   \n",
       "985               Yes  Bank transfer (automatic)           80.60   \n",
       "\n",
       "      TotalCharges  EndDateYN  \n",
       "3274       3634.80          0  \n",
       "5946       3160.55          1  \n",
       "3180         63.60          0  \n",
       "1548       2199.05          0  \n",
       "2395       2835.50          0  \n",
       "63          957.10          0  \n",
       "1427       3122.40          0  \n",
       "3074       2136.90          0  \n",
       "428        1395.05          0  \n",
       "1411       2948.60          0  \n",
       "2806       4890.50          0  \n",
       "6541        398.55          0  \n",
       "6463       4096.90          0  \n",
       "867         104.30          0  \n",
       "985        2656.50          1  "
      ]
     },
     "execution_count": 9,
     "metadata": {},
     "output_type": "execute_result"
    }
   ],
   "source": [
    "dfcontract.sample(15)"
   ]
  },
  {
   "cell_type": "code",
   "execution_count": 10,
   "metadata": {
    "scrolled": true
   },
   "outputs": [
    {
     "data": {
      "text/plain": [
       "0    5163\n",
       "1    1869\n",
       "Name: EndDateYN, dtype: int64"
      ]
     },
     "execution_count": 10,
     "metadata": {},
     "output_type": "execute_result"
    }
   ],
   "source": [
    "# verificando balanceamento de classe\n",
    "dfcontract['EndDateYN'].value_counts()"
   ]
  },
  {
   "cell_type": "code",
   "execution_count": 11,
   "metadata": {},
   "outputs": [
    {
     "data": {
      "text/plain": [
       "0    0.734215\n",
       "1    0.265785\n",
       "Name: EndDateYN, dtype: float64"
      ]
     },
     "execution_count": 11,
     "metadata": {},
     "output_type": "execute_result"
    }
   ],
   "source": [
    "dfcontract['EndDateYN'].value_counts(normalize=True)"
   ]
  },
  {
   "cell_type": "markdown",
   "metadata": {},
   "source": [
    "Conclusion: Out of the 7,032 clients, 1,869 (approximately 25%) experienced churn. Therefore, we will need to perform class balancing using `class_weight` when constructing the model.\n"
   ]
  },
  {
   "cell_type": "code",
   "execution_count": 13,
   "metadata": {
    "scrolled": false
   },
   "outputs": [
    {
     "data": {
      "image/png": "[encoded data removed]",
      "text/plain": [
       "<Figure size 640x480 with 1 Axes>"
      ]
     },
     "metadata": {},
     "output_type": "display_data"
    }
   ],
   "source": [
    "# criando histograma de enddate\n",
    "\n",
    "dates = dfcontract['EndDate'][dfcontract['EndDate'] != 'No']\n",
    "dates = pd.to_datetime(dates) \n",
    "\n",
    "plt.hist(dates.dt.date, bins=4)\n",
    "plt.xlabel('Data')\n",
    "plt.ylabel('Frequencia')\n",
    "plt.title('Histograma de EndDate')\n",
    "plt.show()"
   ]
  },
  {
   "cell_type": "markdown",
   "metadata": {},
   "source": [
    "Conclusion: Churn is concentrated at the end of 2019 and beginning of 2020"
   ]
  },
  {
   "cell_type": "code",
   "execution_count": 14,
   "metadata": {
    "scrolled": false
   },
   "outputs": [
    {
     "data": {
      "image/png": "[encoded data removed]",
      "text/plain": [
       "<Figure size 1000x800 with 2 Axes>"
      ]
     },
     "metadata": {},
     "output_type": "display_data"
    }
   ],
   "source": [
    "# criando um heatmap das datas de churn\n",
    "\n",
    "dates2 = dfcontract['EndDate'][dfcontract['EndDate'] != 'No']\n",
    "dates2 = pd.to_datetime(dates)\n",
    "\n",
    "# create a new dataframe with the date components\n",
    "date_df = pd.DataFrame({\n",
    "    'year': dates2.dt.year,\n",
    "    'month': dates2.dt.month,\n",
    "    'day': dates2.dt.day\n",
    "})\n",
    "\n",
    "date_counts = date_df.groupby(['year', 'month', 'day']).size().reset_index(name='count')\n",
    "\n",
    "pivot_df = date_counts.pivot_table(index='year', columns='month', values='count', fill_value=0)\n",
    "\n",
    "plt.figure(figsize=(10, 8))\n",
    "sns.heatmap(pivot_df, annot=True, cmap='inferno', fmt='d', cbar_kws={'shrink': 0.5})\n",
    "\n",
    "plt.title('Heatmap do Churn')\n",
    "plt.xlabel('Month')\n",
    "plt.ylabel('Year')\n",
    "\n",
    "plt.show()"
   ]
  },
  {
   "cell_type": "markdown",
   "metadata": {},
   "source": [
    "Conclusion:\n",
    "- We can see a lot of churn happening in the last 4 months of 2019 and in january 2020"
   ]
  },
  {
   "cell_type": "code",
   "execution_count": 15,
   "metadata": {
    "scrolled": false
   },
   "outputs": [
    {
     "data": {
      "image/png": "[encoded data removed]",
      "text/plain": [
       "<Figure size 1000x600 with 1 Axes>"
      ]
     },
     "metadata": {},
     "output_type": "display_data"
    },
    {
     "name": "stdout",
     "output_type": "stream",
     "text": [
      "Month-to-month    0.551052\n",
      "Two year          0.239619\n",
      "One year          0.209329\n",
      "Name: Type, dtype: float64\n"
     ]
    }
   ],
   "source": [
    "# Analizando coluna \"type\"\n",
    "\n",
    "billing_counts = dfcontract['Type'].value_counts()\n",
    "\n",
    "plt.figure(figsize=(10, 6))\n",
    "sns.barplot(x=billing_counts.index, y=billing_counts.values)\n",
    "\n",
    "plt.title('Distribuição de Type')\n",
    "plt.xlabel('Type')\n",
    "plt.ylabel('Qtde')\n",
    "\n",
    "plt.show()\n",
    "print(dfcontract[\"Type\"].value_counts(normalize=True))"
   ]
  },
  {
   "cell_type": "markdown",
   "metadata": {},
   "source": [
    "Conclusion: We observed that the majority of clients (55%) pay month-to-month, followed by 2-year contracts (24%), and 1-year contracts (21%). Month-to-month clients tend to generate more churn as they typically do not have termination fees or specific incentives to continue paying for the services.\n"
   ]
  },
  {
   "cell_type": "code",
   "execution_count": 16,
   "metadata": {},
   "outputs": [
    {
     "data": {
      "image/png": "[encoded data removed]",
      "text/plain": [
       "<Figure size 1000x600 with 1 Axes>"
      ]
     },
     "metadata": {},
     "output_type": "display_data"
    },
    {
     "name": "stdout",
     "output_type": "stream",
     "text": [
      "Yes    0.592719\n",
      "No     0.407281\n",
      "Name: PaperlessBilling, dtype: float64\n"
     ]
    }
   ],
   "source": [
    "# analizando paperless billing\n",
    "\n",
    "paperless = dfcontract['PaperlessBilling'].value_counts()\n",
    "\n",
    "\n",
    "plt.figure(figsize=(10, 6))\n",
    "sns.barplot(x=paperless.index, y=paperless.values)\n",
    "\n",
    "for i, value in enumerate(paperless.values):\n",
    "    plt.text(i, value, f'{value}', ha='center', va='bottom')\n",
    "\n",
    "plt.title('Distribuição de Paperless Billing')\n",
    "plt.xlabel('Paperless Billing')\n",
    "plt.ylabel('Qtde')\n",
    "\n",
    "plt.show()\n",
    "print(dfcontract[\"PaperlessBilling\"].value_counts(normalize=True))"
   ]
  },
  {
   "cell_type": "markdown",
   "metadata": {},
   "source": [
    "Conclusion:\n",
    "- The majority of customers (59% or 4,168 clients) prefer paperless billing, while only 41% (2,864 clients) opt for paper billing.\n"
   ]
  },
  {
   "cell_type": "code",
   "execution_count": 17,
   "metadata": {
    "scrolled": false
   },
   "outputs": [
    {
     "data": {
      "image/png": "[encoded data removed]",
      "text/plain": [
       "<Figure size 1000x600 with 1 Axes>"
      ]
     },
     "metadata": {},
     "output_type": "display_data"
    },
    {
     "name": "stdout",
     "output_type": "stream",
     "text": [
      "Electronic check             0.336320\n",
      "Mailed check                 0.228100\n",
      "Bank transfer (automatic)    0.219283\n",
      "Credit card (automatic)      0.216297\n",
      "Name: PaymentMethod, dtype: float64\n"
     ]
    }
   ],
   "source": [
    "# analizando payment method\n",
    "\n",
    "paymethod = dfcontract['PaymentMethod'].value_counts()\n",
    "\n",
    "\n",
    "plt.figure(figsize=(10, 6))\n",
    "sns.barplot(x=paymethod.index, y=paymethod.values)\n",
    "\n",
    "for i, value in enumerate(paymethod.values):\n",
    "    plt.text(i, value, f'{value}', ha='center', va='bottom')\n",
    "\n",
    "plt.title('Distribuição de PaymentMethod')\n",
    "plt.xlabel('PaymentMethod')\n",
    "plt.ylabel('Qtde')\n",
    "\n",
    "plt.show()\n",
    "print(dfcontract[\"PaymentMethod\"].value_counts(normalize=True))"
   ]
  },
  {
   "cell_type": "markdown",
   "metadata": {},
   "source": [
    "Conclusion\n",
    "- The preferred payment method among customers is **Electronic Check**, with 34% (2,365 clients) opting for it. \n",
    "- The other methods are fairly equally distributed: **Mailed Check** at 23% (1,604 clients), **Bank Transfer** at 22% (1,542 clients), and **Credit Card** at 22% (1,521 clients).\n"
   ]
  },
  {
   "cell_type": "code",
   "execution_count": 18,
   "metadata": {
    "scrolled": false
   },
   "outputs": [
    {
     "data": {
      "image/png": "[encoded data removed]",
      "text/plain": [
       "<Figure size 800x600 with 1 Axes>"
      ]
     },
     "metadata": {},
     "output_type": "display_data"
    }
   ],
   "source": [
    "# criando um boxplot de monthly charges\n",
    "\n",
    "sns.set_style('whitegrid')\n",
    "\n",
    "plt.figure(figsize=(8, 6))\n",
    "sns.boxplot(y=dfcontract['MonthlyCharges'], showfliers=True, palette='viridis')\n",
    "\n",
    "plt.title('Boxplot - MonthlyCharges')\n",
    "plt.xlabel('Valor')\n",
    "plt.ylabel('')\n",
    "\n",
    "plt.show()"
   ]
  },
  {
   "cell_type": "markdown",
   "metadata": {},
   "source": [
    "Conclusion:\n",
    "- We observed that the **MonthlyCharges** range from 20 to 120, with a mean of **64**, a median of **70**, and a standard deviation of **30**. The standard deviation being almost half of the mean indicates high variability in the data. However, no outliers were identified.\n"
   ]
  },
  {
   "cell_type": "code",
   "execution_count": 19,
   "metadata": {},
   "outputs": [
    {
     "data": {
      "image/png": "[encoded data removed]",
      "text/plain": [
       "<Figure size 800x600 with 1 Axes>"
      ]
     },
     "metadata": {},
     "output_type": "display_data"
    }
   ],
   "source": [
    "# criando um boxplot de total charges\n",
    "\n",
    "sns.set_style('whitegrid')\n",
    "\n",
    "plt.figure(figsize=(8, 6))\n",
    "sns.boxplot(y=dfcontract['TotalCharges'], showfliers=True, palette='Blues')\n",
    "\n",
    "plt.title('Boxplot - TotalCharges')\n",
    "plt.xlabel('Valor')\n",
    "plt.ylabel('')\n",
    "\n",
    "plt.show()"
   ]
  },
  {
   "cell_type": "markdown",
   "metadata": {},
   "source": [
    "Conclusions\n",
    "- We observed that **TotalCharges** exhibits a high level of variability, with a minimum of **18**, a maximum of **8600**, and a standard deviation that is nearly equal to the mean of **2200**. \n",
    "- The median is **1397**, indicating that the distribution has a skew, with the mean significantly above the median due to higher values. \n",
    "- The boxplot confirms this distribution, showing that the data is skewed right. No outliers were identified.\n"
   ]
  },
  {
   "cell_type": "code",
   "execution_count": 20,
   "metadata": {
    "scrolled": false
   },
   "outputs": [
    {
     "name": "stdout",
     "output_type": "stream",
     "text": [
      "<class 'pandas.core.frame.DataFrame'>\n",
      "RangeIndex: 5517 entries, 0 to 5516\n",
      "Data columns (total 8 columns):\n",
      " #   Column            Non-Null Count  Dtype \n",
      "---  ------            --------------  ----- \n",
      " 0   customerID        5517 non-null   object\n",
      " 1   InternetService   5517 non-null   object\n",
      " 2   OnlineSecurity    5517 non-null   object\n",
      " 3   OnlineBackup      5517 non-null   object\n",
      " 4   DeviceProtection  5517 non-null   object\n",
      " 5   TechSupport       5517 non-null   object\n",
      " 6   StreamingTV       5517 non-null   object\n",
      " 7   StreamingMovies   5517 non-null   object\n",
      "dtypes: object(8)\n",
      "memory usage: 344.9+ KB\n"
     ]
    }
   ],
   "source": [
    "# analizando dfinternet\n",
    "dfinternet.info()"
   ]
  },
  {
   "cell_type": "markdown",
   "metadata": {},
   "source": [
    "**Conclusion**: There are **5517 non-null values** in the `dfinternet`, all of which are of type `object` (string). This is appropriate since these columns contain either textual information or \"Yes/No\" categorical values.\n"
   ]
  },
  {
   "cell_type": "code",
   "execution_count": 21,
   "metadata": {
    "scrolled": true
   },
   "outputs": [
    {
     "data": {
      "text/html": [
       "<div>\n",
       "<style scoped>\n",
       "    .dataframe tbody tr th:only-of-type {\n",
       "        vertical-align: middle;\n",
       "    }\n",
       "\n",
       "    .dataframe tbody tr th {\n",
       "        vertical-align: top;\n",
       "    }\n",
       "\n",
       "    .dataframe thead th {\n",
       "        text-align: right;\n",
       "    }\n",
       "</style>\n",
       "<table border=\"1\" class=\"dataframe\">\n",
       "  <thead>\n",
       "    <tr style=\"text-align: right;\">\n",
       "      <th></th>\n",
       "      <th>customerID</th>\n",
       "      <th>InternetService</th>\n",
       "      <th>OnlineSecurity</th>\n",
       "      <th>OnlineBackup</th>\n",
       "      <th>DeviceProtection</th>\n",
       "      <th>TechSupport</th>\n",
       "      <th>StreamingTV</th>\n",
       "      <th>StreamingMovies</th>\n",
       "    </tr>\n",
       "  </thead>\n",
       "  <tbody>\n",
       "    <tr>\n",
       "      <th>2817</th>\n",
       "      <td>7925-PNRGI</td>\n",
       "      <td>DSL</td>\n",
       "      <td>Yes</td>\n",
       "      <td>Yes</td>\n",
       "      <td>Yes</td>\n",
       "      <td>Yes</td>\n",
       "      <td>Yes</td>\n",
       "      <td>No</td>\n",
       "    </tr>\n",
       "    <tr>\n",
       "      <th>5221</th>\n",
       "      <td>0305-SQECB</td>\n",
       "      <td>DSL</td>\n",
       "      <td>Yes</td>\n",
       "      <td>No</td>\n",
       "      <td>No</td>\n",
       "      <td>Yes</td>\n",
       "      <td>No</td>\n",
       "      <td>No</td>\n",
       "    </tr>\n",
       "    <tr>\n",
       "      <th>3033</th>\n",
       "      <td>2898-LSJGD</td>\n",
       "      <td>DSL</td>\n",
       "      <td>Yes</td>\n",
       "      <td>No</td>\n",
       "      <td>Yes</td>\n",
       "      <td>No</td>\n",
       "      <td>Yes</td>\n",
       "      <td>Yes</td>\n",
       "    </tr>\n",
       "    <tr>\n",
       "      <th>5421</th>\n",
       "      <td>6502-MJQAE</td>\n",
       "      <td>Fiber optic</td>\n",
       "      <td>No</td>\n",
       "      <td>No</td>\n",
       "      <td>No</td>\n",
       "      <td>No</td>\n",
       "      <td>No</td>\n",
       "      <td>No</td>\n",
       "    </tr>\n",
       "    <tr>\n",
       "      <th>5492</th>\n",
       "      <td>1685-BQULA</td>\n",
       "      <td>Fiber optic</td>\n",
       "      <td>No</td>\n",
       "      <td>Yes</td>\n",
       "      <td>Yes</td>\n",
       "      <td>No</td>\n",
       "      <td>Yes</td>\n",
       "      <td>No</td>\n",
       "    </tr>\n",
       "    <tr>\n",
       "      <th>4654</th>\n",
       "      <td>3842-QTGDL</td>\n",
       "      <td>Fiber optic</td>\n",
       "      <td>Yes</td>\n",
       "      <td>Yes</td>\n",
       "      <td>No</td>\n",
       "      <td>No</td>\n",
       "      <td>No</td>\n",
       "      <td>No</td>\n",
       "    </tr>\n",
       "    <tr>\n",
       "      <th>119</th>\n",
       "      <td>6440-DKQGE</td>\n",
       "      <td>DSL</td>\n",
       "      <td>No</td>\n",
       "      <td>Yes</td>\n",
       "      <td>Yes</td>\n",
       "      <td>No</td>\n",
       "      <td>Yes</td>\n",
       "      <td>No</td>\n",
       "    </tr>\n",
       "    <tr>\n",
       "      <th>4670</th>\n",
       "      <td>9185-TQCVP</td>\n",
       "      <td>Fiber optic</td>\n",
       "      <td>No</td>\n",
       "      <td>No</td>\n",
       "      <td>No</td>\n",
       "      <td>No</td>\n",
       "      <td>No</td>\n",
       "      <td>Yes</td>\n",
       "    </tr>\n",
       "    <tr>\n",
       "      <th>3849</th>\n",
       "      <td>2055-BFOCC</td>\n",
       "      <td>DSL</td>\n",
       "      <td>Yes</td>\n",
       "      <td>Yes</td>\n",
       "      <td>Yes</td>\n",
       "      <td>Yes</td>\n",
       "      <td>Yes</td>\n",
       "      <td>Yes</td>\n",
       "    </tr>\n",
       "    <tr>\n",
       "      <th>53</th>\n",
       "      <td>0434-CSFON</td>\n",
       "      <td>Fiber optic</td>\n",
       "      <td>No</td>\n",
       "      <td>No</td>\n",
       "      <td>Yes</td>\n",
       "      <td>No</td>\n",
       "      <td>Yes</td>\n",
       "      <td>Yes</td>\n",
       "    </tr>\n",
       "  </tbody>\n",
       "</table>\n",
       "</div>"
      ],
      "text/plain": [
       "      customerID InternetService OnlineSecurity OnlineBackup DeviceProtection  \\\n",
       "2817  7925-PNRGI             DSL            Yes          Yes              Yes   \n",
       "5221  0305-SQECB             DSL            Yes           No               No   \n",
       "3033  2898-LSJGD             DSL            Yes           No              Yes   \n",
       "5421  6502-MJQAE     Fiber optic             No           No               No   \n",
       "5492  1685-BQULA     Fiber optic             No          Yes              Yes   \n",
       "4654  3842-QTGDL     Fiber optic            Yes          Yes               No   \n",
       "119   6440-DKQGE             DSL             No          Yes              Yes   \n",
       "4670  9185-TQCVP     Fiber optic             No           No               No   \n",
       "3849  2055-BFOCC             DSL            Yes          Yes              Yes   \n",
       "53    0434-CSFON     Fiber optic             No           No              Yes   \n",
       "\n",
       "     TechSupport StreamingTV StreamingMovies  \n",
       "2817         Yes         Yes              No  \n",
       "5221         Yes          No              No  \n",
       "3033          No         Yes             Yes  \n",
       "5421          No          No              No  \n",
       "5492          No         Yes              No  \n",
       "4654          No          No              No  \n",
       "119           No         Yes              No  \n",
       "4670          No          No             Yes  \n",
       "3849         Yes         Yes             Yes  \n",
       "53            No         Yes             Yes  "
      ]
     },
     "execution_count": 21,
     "metadata": {},
     "output_type": "execute_result"
    }
   ],
   "source": [
    "dfinternet.sample(10)"
   ]
  },
  {
   "cell_type": "code",
   "execution_count": 22,
   "metadata": {},
   "outputs": [
    {
     "data": {
      "text/plain": [
       "0"
      ]
     },
     "execution_count": 22,
     "metadata": {},
     "output_type": "execute_result"
    }
   ],
   "source": [
    "dfinternet[\"customerID\"].duplicated().sum()"
   ]
  },
  {
   "cell_type": "markdown",
   "metadata": {},
   "source": [
    "Conclusion:\n",
    "- No duplicate records were found\n",
    "- We have 5517 distinct customers with internet services"
   ]
  },
  {
   "cell_type": "code",
   "execution_count": 23,
   "metadata": {},
   "outputs": [
    {
     "name": "stdout",
     "output_type": "stream",
     "text": [
      "No     0.63404\n",
      "Yes    0.36596\n",
      "Name: OnlineSecurity, dtype: float64\n",
      "No     0.559724\n",
      "Yes    0.440276\n",
      "Name: OnlineBackup, dtype: float64\n",
      "No     0.560993\n",
      "Yes    0.439007\n",
      "Name: DeviceProtection, dtype: float64\n",
      "No     0.629509\n",
      "Yes    0.370491\n",
      "Name: TechSupport, dtype: float64\n",
      "No     0.509335\n",
      "Yes    0.490665\n",
      "Name: StreamingTV, dtype: float64\n",
      "No     0.504803\n",
      "Yes    0.495197\n",
      "Name: StreamingMovies, dtype: float64\n"
     ]
    },
    {
     "data": {
      "image/png": "[encoded data removed]",
      "text/plain": [
       "<Figure size 1000x600 with 1 Axes>"
      ]
     },
     "metadata": {},
     "output_type": "display_data"
    }
   ],
   "source": [
    "# Criando um gráfico para visualizar as colunas deste df\n",
    "\n",
    "features = ['OnlineSecurity', 'OnlineBackup', 'DeviceProtection','TechSupport','StreamingTV','StreamingMovies']\n",
    "\n",
    "fig, ax = plt.subplots(figsize=(10, 6))\n",
    "\n",
    "yes_color = 'green'\n",
    "no_color = 'red'\n",
    "\n",
    "for i, feature in enumerate(features):\n",
    "    yes_count = (dfinternet[feature] == 'Yes').sum()\n",
    "    no_count = (dfinternet[feature] == 'No').sum()\n",
    "    \n",
    "    ax.bar(i, yes_count, label='Yes', color=yes_color)\n",
    "    ax.bar(i, no_count, bottom=yes_count, label='No', color=no_color)\n",
    "    print(dfinternet[feature].value_counts(normalize=True))\n",
    "\n",
    "ax.set_xticks(range(len(features)))\n",
    "ax.set_xticklabels(features)\n",
    "\n",
    "ax.set_title('Uso Serviços de Internet')\n",
    "ax.set_xlabel('Serviço')\n",
    "ax.set_ylabel('Qtd')\n",
    "\n",
    "# Show the plot\n",
    "plt.show()"
   ]
  },
  {
   "cell_type": "markdown",
   "metadata": {},
   "source": [
    "Conclusions:\n",
    "- We observe that the internet services have a similar distribution.\n",
    "- The least consumed service is **OnlineSecurity**, with only **36.5%** of customers subscribed, similar to **TechSupport**, which has a **37%** usage rate. This indicates that these services are not highly demanded by customers.\n",
    "- The most utilized services are **StreamingTV** and **StreamingMovies**, suggesting that these are the services of greatest interest to customers.\n"
   ]
  },
  {
   "cell_type": "code",
   "execution_count": 24,
   "metadata": {},
   "outputs": [
    {
     "data": {
      "image/png": "[encoded data removed]",
      "text/plain": [
       "<Figure size 1000x600 with 1 Axes>"
      ]
     },
     "metadata": {},
     "output_type": "display_data"
    },
    {
     "name": "stdout",
     "output_type": "stream",
     "text": [
      "Fiber optic    0.561175\n",
      "DSL            0.438825\n",
      "Name: InternetService, dtype: float64\n"
     ]
    }
   ],
   "source": [
    "# analizando os tipos de serviço de internet\n",
    "\n",
    "internet_service = dfinternet['InternetService'].value_counts()\n",
    "\n",
    "\n",
    "plt.figure(figsize=(10, 6))\n",
    "sns.barplot(x=internet_service.index, y=internet_service.values)\n",
    "\n",
    "plt.title('Distribuição de InternetService')\n",
    "plt.xlabel('InternetService')\n",
    "plt.ylabel('Qtde')\n",
    "\n",
    "plt.show()\n",
    "print(dfinternet[\"InternetService\"].value_counts(normalize=True))"
   ]
  },
  {
   "cell_type": "markdown",
   "metadata": {},
   "source": [
    "Conclusion:\n",
    "- We can observe that the **fiber optic** service is slightly more popular than **DSL**, with **56%** of customers subscribing to it. **DSL** holds **44%**, indicating a balanced distribution between these two access methods.\n"
   ]
  },
  {
   "cell_type": "markdown",
   "metadata": {},
   "source": [
    "<div class=\"alert alert-block alert-success\">\n",
    "<b> Comentário do revisor: </b> <a class=\"tocSkip\"></a>\n",
    "\n",
    "Ok.\n",
    "</div>"
   ]
  },
  {
   "cell_type": "code",
   "execution_count": 25,
   "metadata": {
    "scrolled": false
   },
   "outputs": [
    {
     "name": "stdout",
     "output_type": "stream",
     "text": [
      "<class 'pandas.core.frame.DataFrame'>\n",
      "RangeIndex: 7043 entries, 0 to 7042\n",
      "Data columns (total 5 columns):\n",
      " #   Column         Non-Null Count  Dtype \n",
      "---  ------         --------------  ----- \n",
      " 0   customerID     7043 non-null   object\n",
      " 1   gender         7043 non-null   object\n",
      " 2   SeniorCitizen  7043 non-null   int64 \n",
      " 3   Partner        7043 non-null   object\n",
      " 4   Dependents     7043 non-null   object\n",
      "dtypes: int64(1), object(4)\n",
      "memory usage: 275.2+ KB\n"
     ]
    }
   ],
   "source": [
    "# analizando dfpersonal\n",
    "dfpersonal.info()"
   ]
  },
  {
   "cell_type": "markdown",
   "metadata": {},
   "source": [
    "Conclusion: We have 7043 non-null records in dfpersonal, all with data type object (string) except for senior citizen which is binary 0/1"
   ]
  },
  {
   "cell_type": "code",
   "execution_count": 26,
   "metadata": {
    "scrolled": false
   },
   "outputs": [
    {
     "data": {
      "text/html": [
       "<div>\n",
       "<style scoped>\n",
       "    .dataframe tbody tr th:only-of-type {\n",
       "        vertical-align: middle;\n",
       "    }\n",
       "\n",
       "    .dataframe tbody tr th {\n",
       "        vertical-align: top;\n",
       "    }\n",
       "\n",
       "    .dataframe thead th {\n",
       "        text-align: right;\n",
       "    }\n",
       "</style>\n",
       "<table border=\"1\" class=\"dataframe\">\n",
       "  <thead>\n",
       "    <tr style=\"text-align: right;\">\n",
       "      <th></th>\n",
       "      <th>customerID</th>\n",
       "      <th>gender</th>\n",
       "      <th>SeniorCitizen</th>\n",
       "      <th>Partner</th>\n",
       "      <th>Dependents</th>\n",
       "    </tr>\n",
       "  </thead>\n",
       "  <tbody>\n",
       "    <tr>\n",
       "      <th>6643</th>\n",
       "      <td>3411-WLRSQ</td>\n",
       "      <td>Female</td>\n",
       "      <td>1</td>\n",
       "      <td>Yes</td>\n",
       "      <td>No</td>\n",
       "    </tr>\n",
       "    <tr>\n",
       "      <th>6173</th>\n",
       "      <td>2378-HTWFW</td>\n",
       "      <td>Male</td>\n",
       "      <td>1</td>\n",
       "      <td>No</td>\n",
       "      <td>No</td>\n",
       "    </tr>\n",
       "    <tr>\n",
       "      <th>3048</th>\n",
       "      <td>1728-BQDMA</td>\n",
       "      <td>Female</td>\n",
       "      <td>0</td>\n",
       "      <td>No</td>\n",
       "      <td>No</td>\n",
       "    </tr>\n",
       "    <tr>\n",
       "      <th>3280</th>\n",
       "      <td>6504-VBLFL</td>\n",
       "      <td>Male</td>\n",
       "      <td>0</td>\n",
       "      <td>Yes</td>\n",
       "      <td>No</td>\n",
       "    </tr>\n",
       "    <tr>\n",
       "      <th>5617</th>\n",
       "      <td>0816-TSPHQ</td>\n",
       "      <td>Male</td>\n",
       "      <td>0</td>\n",
       "      <td>No</td>\n",
       "      <td>No</td>\n",
       "    </tr>\n",
       "    <tr>\n",
       "      <th>520</th>\n",
       "      <td>5174-ITUMV</td>\n",
       "      <td>Male</td>\n",
       "      <td>0</td>\n",
       "      <td>Yes</td>\n",
       "      <td>Yes</td>\n",
       "    </tr>\n",
       "    <tr>\n",
       "      <th>298</th>\n",
       "      <td>2985-JUUBZ</td>\n",
       "      <td>Male</td>\n",
       "      <td>0</td>\n",
       "      <td>Yes</td>\n",
       "      <td>Yes</td>\n",
       "    </tr>\n",
       "    <tr>\n",
       "      <th>289</th>\n",
       "      <td>3580-REOAC</td>\n",
       "      <td>Male</td>\n",
       "      <td>0</td>\n",
       "      <td>No</td>\n",
       "      <td>No</td>\n",
       "    </tr>\n",
       "    <tr>\n",
       "      <th>1675</th>\n",
       "      <td>6311-UEUME</td>\n",
       "      <td>Female</td>\n",
       "      <td>0</td>\n",
       "      <td>No</td>\n",
       "      <td>No</td>\n",
       "    </tr>\n",
       "    <tr>\n",
       "      <th>6025</th>\n",
       "      <td>2887-JPYLU</td>\n",
       "      <td>Female</td>\n",
       "      <td>0</td>\n",
       "      <td>No</td>\n",
       "      <td>Yes</td>\n",
       "    </tr>\n",
       "    <tr>\n",
       "      <th>504</th>\n",
       "      <td>5736-YEJAX</td>\n",
       "      <td>Male</td>\n",
       "      <td>0</td>\n",
       "      <td>No</td>\n",
       "      <td>Yes</td>\n",
       "    </tr>\n",
       "    <tr>\n",
       "      <th>4484</th>\n",
       "      <td>7465-ZZRVX</td>\n",
       "      <td>Male</td>\n",
       "      <td>0</td>\n",
       "      <td>No</td>\n",
       "      <td>No</td>\n",
       "    </tr>\n",
       "    <tr>\n",
       "      <th>281</th>\n",
       "      <td>8229-MYEJZ</td>\n",
       "      <td>Female</td>\n",
       "      <td>0</td>\n",
       "      <td>No</td>\n",
       "      <td>No</td>\n",
       "    </tr>\n",
       "    <tr>\n",
       "      <th>5058</th>\n",
       "      <td>1376-HHBDV</td>\n",
       "      <td>Female</td>\n",
       "      <td>0</td>\n",
       "      <td>No</td>\n",
       "      <td>No</td>\n",
       "    </tr>\n",
       "    <tr>\n",
       "      <th>2605</th>\n",
       "      <td>1790-NESIO</td>\n",
       "      <td>Female</td>\n",
       "      <td>0</td>\n",
       "      <td>No</td>\n",
       "      <td>No</td>\n",
       "    </tr>\n",
       "  </tbody>\n",
       "</table>\n",
       "</div>"
      ],
      "text/plain": [
       "      customerID  gender  SeniorCitizen Partner Dependents\n",
       "6643  3411-WLRSQ  Female              1     Yes         No\n",
       "6173  2378-HTWFW    Male              1      No         No\n",
       "3048  1728-BQDMA  Female              0      No         No\n",
       "3280  6504-VBLFL    Male              0     Yes         No\n",
       "5617  0816-TSPHQ    Male              0      No         No\n",
       "520   5174-ITUMV    Male              0     Yes        Yes\n",
       "298   2985-JUUBZ    Male              0     Yes        Yes\n",
       "289   3580-REOAC    Male              0      No         No\n",
       "1675  6311-UEUME  Female              0      No         No\n",
       "6025  2887-JPYLU  Female              0      No        Yes\n",
       "504   5736-YEJAX    Male              0      No        Yes\n",
       "4484  7465-ZZRVX    Male              0      No         No\n",
       "281   8229-MYEJZ  Female              0      No         No\n",
       "5058  1376-HHBDV  Female              0      No         No\n",
       "2605  1790-NESIO  Female              0      No         No"
      ]
     },
     "execution_count": 26,
     "metadata": {},
     "output_type": "execute_result"
    }
   ],
   "source": [
    "dfpersonal.sample(15)"
   ]
  },
  {
   "cell_type": "code",
   "execution_count": 27,
   "metadata": {},
   "outputs": [
    {
     "data": {
      "text/plain": [
       "0"
      ]
     },
     "execution_count": 27,
     "metadata": {},
     "output_type": "execute_result"
    }
   ],
   "source": [
    "dfpersonal.duplicated().sum()"
   ]
  },
  {
   "cell_type": "markdown",
   "metadata": {},
   "source": [
    "Conclusions:\n",
    "- We have **7043 records** containing personal details of customers.\n",
    "- No missing or duplicate values were found.\n",
    "- When concatenating, the **7032 records** from `dfcontract` should pull from `dfpersonal`.\n",
    "\n",
    "Columns to be considered as features for churn prediction:\n",
    "- `gender`\n",
    "- `seniorcitizen`\n",
    "- `partner`\n",
    "- `dependents`\n",
    "\n",
    "To do:\n",
    "- Create a chart for `gender`.\n",
    "- Create a chart for `seniorcitizen`.\n",
    "- Create a chart for `partner`.\n",
    "- Create a chart for `dependents`.\n"
   ]
  },
  {
   "cell_type": "code",
   "execution_count": 28,
   "metadata": {
    "scrolled": false
   },
   "outputs": [
    {
     "data": {
      "image/png": "[encoded data removed]",
      "text/plain": [
       "<Figure size 1000x600 with 1 Axes>"
      ]
     },
     "metadata": {},
     "output_type": "display_data"
    },
    {
     "name": "stdout",
     "output_type": "stream",
     "text": [
      "Male      0.504756\n",
      "Female    0.495244\n",
      "Name: gender, dtype: float64\n"
     ]
    }
   ],
   "source": [
    "# analizando gender\n",
    "\n",
    "gender = dfpersonal['gender'].value_counts()\n",
    "\n",
    "\n",
    "plt.figure(figsize=(10, 6))\n",
    "sns.barplot(x=gender.index, y=gender.values)\n",
    "\n",
    "for i, value in enumerate(gender.values):\n",
    "    plt.text(i, value, f'{value}', ha='center', va='bottom')\n",
    "\n",
    "plt.title('Distribuição de Gender')\n",
    "plt.xlabel('Gender')\n",
    "plt.ylabel('Qtde')\n",
    "\n",
    "plt.show()\n",
    "print(dfpersonal[\"gender\"].value_counts(normalize=True))"
   ]
  },
  {
   "cell_type": "markdown",
   "metadata": {},
   "source": [
    "Conclusion:\n",
    "- The distribution of customers by gender is almost equal, with **50.47%** male and **49.52%** female, totaling around **3,500 customers** of each gender.\n"
   ]
  },
  {
   "cell_type": "code",
   "execution_count": 29,
   "metadata": {},
   "outputs": [
    {
     "data": {
      "image/png": "[encoded data removed]",
      "text/plain": [
       "<Figure size 1000x600 with 1 Axes>"
      ]
     },
     "metadata": {},
     "output_type": "display_data"
    },
    {
     "name": "stdout",
     "output_type": "stream",
     "text": [
      "0    0.837853\n",
      "1    0.162147\n",
      "Name: SeniorCitizen, dtype: float64\n"
     ]
    }
   ],
   "source": [
    "# analizando senior citizen\n",
    "\n",
    "senior = dfpersonal['SeniorCitizen'].value_counts()\n",
    "\n",
    "\n",
    "plt.figure(figsize=(10, 6))\n",
    "sns.barplot(x=senior.index, y=senior.values)\n",
    "\n",
    "for i, value in enumerate(senior.values):\n",
    "    plt.text(i, value, f'{value}', ha='center', va='bottom')\n",
    "\n",
    "plt.title('Distribuição de SeniorCitizen')\n",
    "plt.xlabel('SeniorCitizen')\n",
    "plt.ylabel('Qtde')\n",
    "\n",
    "plt.show()\n",
    "print(dfpersonal[\"SeniorCitizen\"].value_counts(normalize=True))"
   ]
  },
  {
   "cell_type": "markdown",
   "metadata": {},
   "source": [
    "Conclusion: \n",
    "- Most customers are not senior citizens, only 16% or 1142 customers are identified as seniors"
   ]
  },
  {
   "cell_type": "code",
   "execution_count": 30,
   "metadata": {},
   "outputs": [
    {
     "data": {
      "image/png": "[encoded data removed]",
      "text/plain": [
       "<Figure size 1000x600 with 1 Axes>"
      ]
     },
     "metadata": {},
     "output_type": "display_data"
    },
    {
     "name": "stdout",
     "output_type": "stream",
     "text": [
      "No     0.516967\n",
      "Yes    0.483033\n",
      "Name: Partner, dtype: float64\n"
     ]
    }
   ],
   "source": [
    "# analizando partner\n",
    "\n",
    "partner = dfpersonal['Partner'].value_counts()\n",
    "\n",
    "\n",
    "plt.figure(figsize=(10, 6))\n",
    "sns.barplot(x=partner.index, y=partner.values)\n",
    "\n",
    "for i, value in enumerate(partner.values):\n",
    "    plt.text(i, value, f'{value}', ha='center', va='bottom')\n",
    "\n",
    "plt.title('Distribuição de Partner')\n",
    "plt.xlabel('Partner')\n",
    "plt.ylabel('Qtde')\n",
    "\n",
    "plt.show()\n",
    "print(dfpersonal[\"Partner\"].value_counts(normalize=True))"
   ]
  },
  {
   "cell_type": "markdown",
   "metadata": {},
   "source": [
    "Conclusion:\n",
    "- We have a significant number of customers identified as partners - 3402 customers or 48% of customers"
   ]
  },
  {
   "cell_type": "code",
   "execution_count": 31,
   "metadata": {},
   "outputs": [
    {
     "data": {
      "image/png": "[encoded data removed]",
      "text/plain": [
       "<Figure size 1000x600 with 1 Axes>"
      ]
     },
     "metadata": {},
     "output_type": "display_data"
    },
    {
     "name": "stdout",
     "output_type": "stream",
     "text": [
      "No     0.700412\n",
      "Yes    0.299588\n",
      "Name: Dependents, dtype: float64\n"
     ]
    }
   ],
   "source": [
    "# analisando dependents\n",
    "\n",
    "dependents = dfpersonal['Dependents'].value_counts()\n",
    "\n",
    "\n",
    "plt.figure(figsize=(10, 6))\n",
    "sns.barplot(x=dependents.index, y=dependents.values)\n",
    "\n",
    "for i, value in enumerate(dependents.values):\n",
    "    plt.text(i, value, f'{value}', ha='center', va='bottom')\n",
    "\n",
    "plt.title('Distribuição de Dependents')\n",
    "plt.xlabel('Dependents')\n",
    "plt.ylabel('Qtde')\n",
    "\n",
    "plt.show()\n",
    "print(dfpersonal[\"Dependents\"].value_counts(normalize=True))"
   ]
  },
  {
   "cell_type": "markdown",
   "metadata": {},
   "source": [
    "Conclusion:\n",
    "- We can observe that the vast majority of customers do not have dependents—**70%** or **4,933 customers**. This suggests that they are the primary consumers of the services. Only **2,110 customers** (**30%**) have dependents.\n"
   ]
  },
  {
   "cell_type": "code",
   "execution_count": 32,
   "metadata": {
    "scrolled": true
   },
   "outputs": [
    {
     "name": "stdout",
     "output_type": "stream",
     "text": [
      "<class 'pandas.core.frame.DataFrame'>\n",
      "RangeIndex: 6361 entries, 0 to 6360\n",
      "Data columns (total 2 columns):\n",
      " #   Column         Non-Null Count  Dtype \n",
      "---  ------         --------------  ----- \n",
      " 0   customerID     6361 non-null   object\n",
      " 1   MultipleLines  6361 non-null   object\n",
      "dtypes: object(2)\n",
      "memory usage: 99.5+ KB\n"
     ]
    }
   ],
   "source": [
    "# analizando dfphone\n",
    "dfphone.info()"
   ]
  },
  {
   "cell_type": "code",
   "execution_count": 33,
   "metadata": {
    "scrolled": false
   },
   "outputs": [
    {
     "data": {
      "text/html": [
       "<div>\n",
       "<style scoped>\n",
       "    .dataframe tbody tr th:only-of-type {\n",
       "        vertical-align: middle;\n",
       "    }\n",
       "\n",
       "    .dataframe tbody tr th {\n",
       "        vertical-align: top;\n",
       "    }\n",
       "\n",
       "    .dataframe thead th {\n",
       "        text-align: right;\n",
       "    }\n",
       "</style>\n",
       "<table border=\"1\" class=\"dataframe\">\n",
       "  <thead>\n",
       "    <tr style=\"text-align: right;\">\n",
       "      <th></th>\n",
       "      <th>customerID</th>\n",
       "      <th>MultipleLines</th>\n",
       "    </tr>\n",
       "  </thead>\n",
       "  <tbody>\n",
       "    <tr>\n",
       "      <th>4592</th>\n",
       "      <td>6907-NZZIJ</td>\n",
       "      <td>Yes</td>\n",
       "    </tr>\n",
       "    <tr>\n",
       "      <th>6138</th>\n",
       "      <td>8441-SHIPE</td>\n",
       "      <td>Yes</td>\n",
       "    </tr>\n",
       "    <tr>\n",
       "      <th>3243</th>\n",
       "      <td>7820-ZYGNY</td>\n",
       "      <td>Yes</td>\n",
       "    </tr>\n",
       "    <tr>\n",
       "      <th>3536</th>\n",
       "      <td>4521-YEEHE</td>\n",
       "      <td>Yes</td>\n",
       "    </tr>\n",
       "    <tr>\n",
       "      <th>1626</th>\n",
       "      <td>0516-VRYBW</td>\n",
       "      <td>No</td>\n",
       "    </tr>\n",
       "    <tr>\n",
       "      <th>6341</th>\n",
       "      <td>9837-FWLCH</td>\n",
       "      <td>No</td>\n",
       "    </tr>\n",
       "    <tr>\n",
       "      <th>1227</th>\n",
       "      <td>7073-QETQY</td>\n",
       "      <td>No</td>\n",
       "    </tr>\n",
       "    <tr>\n",
       "      <th>347</th>\n",
       "      <td>0224-RLWWD</td>\n",
       "      <td>No</td>\n",
       "    </tr>\n",
       "    <tr>\n",
       "      <th>1900</th>\n",
       "      <td>9919-FZDED</td>\n",
       "      <td>Yes</td>\n",
       "    </tr>\n",
       "    <tr>\n",
       "      <th>2383</th>\n",
       "      <td>1550-EENBN</td>\n",
       "      <td>Yes</td>\n",
       "    </tr>\n",
       "  </tbody>\n",
       "</table>\n",
       "</div>"
      ],
      "text/plain": [
       "      customerID MultipleLines\n",
       "4592  6907-NZZIJ           Yes\n",
       "6138  8441-SHIPE           Yes\n",
       "3243  7820-ZYGNY           Yes\n",
       "3536  4521-YEEHE           Yes\n",
       "1626  0516-VRYBW            No\n",
       "6341  9837-FWLCH            No\n",
       "1227  7073-QETQY            No\n",
       "347   0224-RLWWD            No\n",
       "1900  9919-FZDED           Yes\n",
       "2383  1550-EENBN           Yes"
      ]
     },
     "execution_count": 33,
     "metadata": {},
     "output_type": "execute_result"
    }
   ],
   "source": [
    "dfphone.sample(10)"
   ]
  },
  {
   "cell_type": "code",
   "execution_count": 34,
   "metadata": {},
   "outputs": [
    {
     "data": {
      "text/plain": [
       "0"
      ]
     },
     "execution_count": 34,
     "metadata": {},
     "output_type": "execute_result"
    }
   ],
   "source": [
    "dfphone.duplicated().sum()"
   ]
  },
  {
   "cell_type": "markdown",
   "metadata": {},
   "source": [
    "Conclusions:\n",
    "- No missing or duplicate values were found in `dfphone`.\n",
    "- There are **6,361 unique customer records** indicating whether they use multiple phone lines or not.\n",
    "\n",
    "Columns to consider for churn analysis:\n",
    "- `multiplelines`\n"
   ]
  },
  {
   "cell_type": "code",
   "execution_count": 35,
   "metadata": {
    "scrolled": false
   },
   "outputs": [
    {
     "data": {
      "image/png": "[encoded data removed]",
      "text/plain": [
       "<Figure size 1000x600 with 1 Axes>"
      ]
     },
     "metadata": {},
     "output_type": "display_data"
    },
    {
     "name": "stdout",
     "output_type": "stream",
     "text": [
      "No     0.532935\n",
      "Yes    0.467065\n",
      "Name: MultipleLines, dtype: float64\n"
     ]
    }
   ],
   "source": [
    "# analisando MultipleLines\n",
    "\n",
    "multilines = dfphone['MultipleLines'].value_counts()\n",
    "\n",
    "\n",
    "plt.figure(figsize=(10, 6))\n",
    "sns.barplot(x=multilines.index, y=multilines.values)\n",
    "\n",
    "for i, value in enumerate(multilines.values):\n",
    "    plt.text(i, value, f'{value}', ha='center', va='bottom')\n",
    "\n",
    "plt.title('Distribuição de Multiple Lines')\n",
    "plt.xlabel('Multiple Lines')\n",
    "plt.ylabel('Qtde')\n",
    "\n",
    "plt.show()\n",
    "print(dfphone[\"MultipleLines\"].value_counts(normalize=True))"
   ]
  },
  {
   "cell_type": "markdown",
   "metadata": {},
   "source": [
    "Conclusion:\n",
    "- We observe that the majority of customers (**53% or 3,390 customers**) do not have multiple phone lines, while **47% (or 2,971 customers)** do have multiple lines, indicating a nearly even split of this service among the customers.\n"
   ]
  },
  {
   "cell_type": "markdown",
   "metadata": {},
   "source": [
    "**Plan for Developing the Models**\n",
    "\n",
    "1. **Classification Problem**: Since we are dealing with a binary classification problem (churn or no churn), we will use classification models.\n",
    "2. **Data Preparation**: Combine all features into a single table, using `customerID` as the key to concatenate dataframes. Only include the columns previously identified as relevant features for the model.\n",
    "3. **Train-Test Split and Class Balancing**: Separate the data into training and test sets, ensuring proper class balancing since the majority of customers have not churned. Scaling the data is not necessary as the only numeric data are the monthly and total charges.\n",
    "4. **Model Training**: Train various classification models including logistic regression, decision tree, random forest, gradient boosting, K-Nearest Neighbors (KNN), and neural networks. Evaluate each model using the AUC-ROC metric.\n",
    "5. **Hyperparameter Tuning**: Use `GridSearchCV` to tune the hyperparameters of each model to enhance their AUC-ROC scores.\n",
    "6. **Model Selection**: Choose the best model based on AUC-ROC and cross-validation performance.\n"
   ]
  }
 ],
 "metadata": {
  "ExecuteTimeLog": [
   {
    "duration": 8,
    "start_time": "2024-09-13T01:35:11.741Z"
   },
   {
    "duration": 342,
    "start_time": "2024-09-13T14:34:36.464Z"
   },
   {
    "duration": 80,
    "start_time": "2024-09-13T14:34:37.691Z"
   },
   {
    "duration": 11,
    "start_time": "2024-09-13T14:34:39.184Z"
   },
   {
    "duration": 9,
    "start_time": "2024-09-13T14:34:57.420Z"
   },
   {
    "duration": 13,
    "start_time": "2024-09-13T14:35:12.331Z"
   },
   {
    "duration": 12,
    "start_time": "2024-09-13T14:35:50.970Z"
   },
   {
    "duration": 8,
    "start_time": "2024-09-13T14:37:06.791Z"
   },
   {
    "duration": 9,
    "start_time": "2024-09-13T14:37:17.121Z"
   },
   {
    "duration": 10,
    "start_time": "2024-09-13T14:37:26.970Z"
   },
   {
    "duration": 9,
    "start_time": "2024-09-13T14:37:35.610Z"
   },
   {
    "duration": 9,
    "start_time": "2024-09-13T14:38:59.061Z"
   },
   {
    "duration": 11,
    "start_time": "2024-09-13T14:39:11.995Z"
   },
   {
    "duration": 9,
    "start_time": "2024-09-13T14:43:36.805Z"
   },
   {
    "duration": 576,
    "start_time": "2024-09-13T14:44:07.562Z"
   },
   {
    "duration": 5,
    "start_time": "2024-09-13T14:44:10.638Z"
   },
   {
    "duration": 5,
    "start_time": "2024-09-13T14:44:24.917Z"
   },
   {
    "duration": 15,
    "start_time": "2024-09-13T14:44:45.181Z"
   },
   {
    "duration": 10,
    "start_time": "2024-09-13T14:45:02.752Z"
   },
   {
    "duration": 41,
    "start_time": "2024-09-13T14:45:41.073Z"
   },
   {
    "duration": 565,
    "start_time": "2024-09-13T14:45:51.365Z"
   },
   {
    "duration": 48,
    "start_time": "2024-09-13T14:46:13.184Z"
   },
   {
    "duration": 10,
    "start_time": "2024-09-13T14:46:24.964Z"
   },
   {
    "duration": 10,
    "start_time": "2024-09-13T14:46:27.369Z"
   },
   {
    "duration": 5,
    "start_time": "2024-09-13T14:48:52.160Z"
   },
   {
    "duration": 4,
    "start_time": "2024-09-13T14:49:30.083Z"
   },
   {
    "duration": 229,
    "start_time": "2024-09-13T14:51:15.482Z"
   },
   {
    "duration": 13,
    "start_time": "2024-09-13T14:51:36.997Z"
   },
   {
    "duration": 6,
    "start_time": "2024-09-13T14:51:44.619Z"
   },
   {
    "duration": 13,
    "start_time": "2024-09-13T14:52:08.576Z"
   },
   {
    "duration": 3,
    "start_time": "2024-09-13T14:55:41.362Z"
   },
   {
    "duration": 5,
    "start_time": "2024-09-13T14:56:36.897Z"
   },
   {
    "duration": 14,
    "start_time": "2024-09-13T14:56:38.373Z"
   },
   {
    "duration": 15,
    "start_time": "2024-09-13T14:56:41.528Z"
   },
   {
    "duration": 5,
    "start_time": "2024-09-13T14:56:57.485Z"
   },
   {
    "duration": 12,
    "start_time": "2024-09-13T14:56:59.195Z"
   },
   {
    "duration": 10,
    "start_time": "2024-09-13T21:13:16.221Z"
   },
   {
    "duration": 6,
    "start_time": "2024-09-13T21:15:39.080Z"
   },
   {
    "duration": 8,
    "start_time": "2024-09-13T21:17:30.989Z"
   },
   {
    "duration": 8,
    "start_time": "2024-09-13T21:17:44.492Z"
   },
   {
    "duration": 6,
    "start_time": "2024-09-13T21:17:59.811Z"
   },
   {
    "duration": 4,
    "start_time": "2024-09-13T21:20:31.916Z"
   },
   {
    "duration": 12,
    "start_time": "2024-09-13T21:20:33.026Z"
   },
   {
    "duration": 5,
    "start_time": "2024-09-13T21:23:32.745Z"
   },
   {
    "duration": 5,
    "start_time": "2024-09-13T21:23:45.821Z"
   },
   {
    "duration": 5,
    "start_time": "2024-09-13T21:24:03.140Z"
   },
   {
    "duration": 6,
    "start_time": "2024-09-13T22:10:33.621Z"
   },
   {
    "duration": 5,
    "start_time": "2024-09-13T22:11:07.572Z"
   },
   {
    "duration": 5,
    "start_time": "2024-09-13T22:12:03.107Z"
   },
   {
    "duration": 5,
    "start_time": "2024-09-13T22:12:07.239Z"
   },
   {
    "duration": 1861,
    "start_time": "2024-09-13T22:13:31.092Z"
   },
   {
    "duration": 164,
    "start_time": "2024-09-13T22:15:58.231Z"
   },
   {
    "duration": 29,
    "start_time": "2024-09-13T22:17:34.040Z"
   },
   {
    "duration": 69,
    "start_time": "2024-09-13T22:18:32.164Z"
   },
   {
    "duration": 305,
    "start_time": "2024-09-13T22:19:43.952Z"
   },
   {
    "duration": 41,
    "start_time": "2024-09-13T22:20:13.928Z"
   },
   {
    "duration": 198,
    "start_time": "2024-09-13T22:22:37.409Z"
   },
   {
    "duration": 353,
    "start_time": "2024-09-13T22:22:47.974Z"
   },
   {
    "duration": 623,
    "start_time": "2024-09-13T22:22:51.694Z"
   },
   {
    "duration": 111,
    "start_time": "2024-09-13T22:25:53.771Z"
   },
   {
    "duration": 126,
    "start_time": "2024-09-13T22:26:16.397Z"
   },
   {
    "duration": 155,
    "start_time": "2024-09-13T22:26:33.827Z"
   },
   {
    "duration": 114,
    "start_time": "2024-09-13T22:26:38.707Z"
   },
   {
    "duration": 117,
    "start_time": "2024-09-13T22:27:26.337Z"
   },
   {
    "duration": 114,
    "start_time": "2024-09-13T22:29:21.438Z"
   },
   {
    "duration": 91,
    "start_time": "2024-09-13T22:29:47.834Z"
   },
   {
    "duration": 92,
    "start_time": "2024-09-13T22:32:40.758Z"
   },
   {
    "duration": 207,
    "start_time": "2024-09-13T22:39:06.096Z"
   },
   {
    "duration": 197,
    "start_time": "2024-09-13T22:40:11.387Z"
   },
   {
    "duration": 136,
    "start_time": "2024-09-13T22:40:18.692Z"
   },
   {
    "duration": 148,
    "start_time": "2024-09-13T22:41:38.257Z"
   },
   {
    "duration": 110,
    "start_time": "2024-09-13T22:46:05.600Z"
   },
   {
    "duration": 112,
    "start_time": "2024-09-13T22:49:25.236Z"
   },
   {
    "duration": 116,
    "start_time": "2024-09-13T22:51:18.673Z"
   },
   {
    "duration": 111,
    "start_time": "2024-09-13T22:52:24.915Z"
   },
   {
    "duration": 274,
    "start_time": "2024-09-13T22:53:42.857Z"
   },
   {
    "duration": 108,
    "start_time": "2024-09-13T22:55:09.699Z"
   },
   {
    "duration": 7,
    "start_time": "2024-09-13T22:57:20.386Z"
   },
   {
    "duration": 115,
    "start_time": "2024-09-13T22:57:26.666Z"
   },
   {
    "duration": 118,
    "start_time": "2024-09-13T23:11:21.550Z"
   },
   {
    "duration": 130,
    "start_time": "2024-09-13T23:13:05.027Z"
   },
   {
    "duration": 221,
    "start_time": "2024-09-13T23:20:10.605Z"
   },
   {
    "duration": 234,
    "start_time": "2024-09-13T23:20:39.183Z"
   },
   {
    "duration": 174,
    "start_time": "2024-09-13T23:21:13.238Z"
   },
   {
    "duration": 2615,
    "start_time": "2024-09-14T01:20:07.461Z"
   },
   {
    "duration": 81,
    "start_time": "2024-09-14T01:20:10.079Z"
   },
   {
    "duration": 10,
    "start_time": "2024-09-14T01:20:10.162Z"
   },
   {
    "duration": 16,
    "start_time": "2024-09-14T01:20:10.175Z"
   },
   {
    "duration": 5,
    "start_time": "2024-09-14T01:20:10.193Z"
   },
   {
    "duration": 7,
    "start_time": "2024-09-14T01:20:10.200Z"
   },
   {
    "duration": 8,
    "start_time": "2024-09-14T01:20:10.209Z"
   },
   {
    "duration": 4,
    "start_time": "2024-09-14T01:20:10.218Z"
   },
   {
    "duration": 16,
    "start_time": "2024-09-14T01:20:10.223Z"
   },
   {
    "duration": 4,
    "start_time": "2024-09-14T01:20:10.272Z"
   },
   {
    "duration": 4,
    "start_time": "2024-09-14T01:20:10.278Z"
   },
   {
    "duration": 13,
    "start_time": "2024-09-14T01:20:10.284Z"
   },
   {
    "duration": 182,
    "start_time": "2024-09-14T01:20:10.301Z"
   },
   {
    "duration": 322,
    "start_time": "2024-09-14T01:20:10.485Z"
   },
   {
    "duration": 174,
    "start_time": "2024-09-14T01:20:10.809Z"
   },
   {
    "duration": 129,
    "start_time": "2024-09-14T01:20:10.985Z"
   },
   {
    "duration": 131,
    "start_time": "2024-09-14T01:20:11.116Z"
   },
   {
    "duration": 103,
    "start_time": "2024-09-14T01:20:11.249Z"
   },
   {
    "duration": 103,
    "start_time": "2024-09-14T01:20:11.354Z"
   },
   {
    "duration": 19,
    "start_time": "2024-09-14T01:20:11.459Z"
   },
   {
    "duration": 9,
    "start_time": "2024-09-14T01:20:11.480Z"
   },
   {
    "duration": 4,
    "start_time": "2024-09-14T01:20:11.491Z"
   },
   {
    "duration": 177,
    "start_time": "2024-09-14T01:20:11.496Z"
   },
   {
    "duration": 160,
    "start_time": "2024-09-14T01:20:11.675Z"
   },
   {
    "duration": 10,
    "start_time": "2024-09-14T01:20:11.837Z"
   },
   {
    "duration": 20,
    "start_time": "2024-09-14T01:20:11.850Z"
   },
   {
    "duration": 7,
    "start_time": "2024-09-14T01:20:11.872Z"
   },
   {
    "duration": 131,
    "start_time": "2024-09-14T01:20:11.883Z"
   },
   {
    "duration": 139,
    "start_time": "2024-09-14T01:20:12.016Z"
   },
   {
    "duration": 129,
    "start_time": "2024-09-14T01:20:12.157Z"
   },
   {
    "duration": 134,
    "start_time": "2024-09-14T01:20:12.289Z"
   },
   {
    "duration": 10,
    "start_time": "2024-09-14T01:20:12.424Z"
   },
   {
    "duration": 7,
    "start_time": "2024-09-14T01:20:12.436Z"
   },
   {
    "duration": 28,
    "start_time": "2024-09-14T01:20:12.445Z"
   },
   {
    "duration": 161,
    "start_time": "2024-09-14T01:20:12.474Z"
   },
   {
    "duration": 8,
    "start_time": "2024-09-15T21:49:42.611Z"
   },
   {
    "duration": 5,
    "start_time": "2024-09-15T21:54:24.287Z"
   }
  ],
  "kernelspec": {
   "display_name": "Python 3 (ipykernel)",
   "language": "python",
   "name": "python3"
  },
  "language_info": {
   "codemirror_mode": {
    "name": "ipython",
    "version": 3
   },
   "file_extension": ".py",
   "mimetype": "text/x-python",
   "name": "python",
   "nbconvert_exporter": "python",
   "pygments_lexer": "ipython3",
   "version": "3.9.19"
  },
  "toc": {
   "base_numbering": 1,
   "nav_menu": {},
   "number_sections": true,
   "sideBar": true,
   "skip_h1_title": true,
   "title_cell": "Table of Contents",
   "title_sidebar": "Contents",
   "toc_cell": false,
   "toc_position": {},
   "toc_section_display": true,
   "toc_window_display": false
  }
 },
 "nbformat": 4,
 "nbformat_minor": 2
}
